{
 "cells": [
  {
   "cell_type": "markdown",
   "id": "0bfdef16-5038-4bde-97fa-bb175ee5cfec",
   "metadata": {},
   "source": [
    "IMPORTING LIBRARIES"
   ]
  },
  {
   "cell_type": "code",
   "execution_count": 1,
   "id": "bccc2aae-4d15-4c59-bc1f-6088d0b1d555",
   "metadata": {},
   "outputs": [
    {
     "name": "stderr",
     "output_type": "stream",
     "text": [
      "/tmp/ipykernel_57780/2215096945.py:1: DeprecationWarning: \n",
      "Pyarrow will become a required dependency of pandas in the next major release of pandas (pandas 3.0),\n",
      "(to allow more performant data types, such as the Arrow string type, and better interoperability with other libraries)\n",
      "but was not found to be installed on your system.\n",
      "If this would cause problems for you,\n",
      "please provide us feedback at https://github.com/pandas-dev/pandas/issues/54466\n",
      "        \n",
      "  import pandas as pd\n"
     ]
    }
   ],
   "source": [
    "import pandas as pd\n",
    "import requests\n",
    "import lxml\n",
    "import csv\n",
    "import re\n",
    "from bs4 import BeautifulSoup\n",
    "from selenium import webdriver\n",
    "from selenium.webdriver.support.ui import WebDriverWait\n",
    "from selenium.webdriver.common.by import By\n",
    "from selenium.webdriver.support import expected_conditions as EC\n",
    "from selenium.webdriver.chrome.options import Options\n"
   ]
  },
  {
   "cell_type": "markdown",
   "id": "420c10e0-9d35-4546-a2d1-9e38dbf63b7a",
   "metadata": {},
   "source": [
    "SETTING HEADLESS CHROME"
   ]
  },
  {
   "cell_type": "code",
   "execution_count": 2,
   "id": "bb008e3e-3e31-45da-a536-71fc4634c3f3",
   "metadata": {},
   "outputs": [],
   "source": [
    "options=Options()\n",
    "options.add_argument('--headless')"
   ]
  },
  {
   "cell_type": "markdown",
   "id": "d8b3803a-2532-4402-885b-bfdd20907a85",
   "metadata": {},
   "source": [
    "CREATING A FUNCTION TO GET LINKS TO THE LAST 10 SEASONS TO EXTRACT OUR DATA FROM"
   ]
  },
  {
   "cell_type": "code",
   "execution_count": 3,
   "id": "5e04b0a6-7ec4-4149-8910-a0abaf874746",
   "metadata": {},
   "outputs": [],
   "source": [
    "baseUrl=\"https://www.flashfootball.com/england/premier-league-2022-2023/archive/\""
   ]
  },
  {
   "cell_type": "code",
   "execution_count": 4,
   "id": "c8ad7967-9367-4429-9fca-c3736ed9d3c5",
   "metadata": {},
   "outputs": [],
   "source": [
    "def getSeasonLinks(baseUrl):\n",
    "    links=[]\n",
    "    archive=webdriver.Chrome(options=options)\n",
    "    archive.get(baseUrl)\n",
    "    WebDriverWait(archive,10).until(EC.element_to_be_clickable((By.ID,\"onetrust-accept-btn-handler\"))).click()\n",
    "    #archive.find_element(By.ID,\"onetrust-accept-btn-handler\").click()\n",
    "    section=archive.find_element(By.ID,\"tournament-page-archiv\")\n",
    "    seasons=section.find_elements(By.CLASS_NAME,\"archive__row\")\n",
    "    for season in seasons[1:10]:\n",
    "        link=season.find_element(By.CLASS_NAME,\"archive__season\").find_element(By.TAG_NAME,'a').get_attribute('href')\n",
    "        links.append(link)\n",
    "    return links"
   ]
  },
  {
   "cell_type": "markdown",
   "id": "75479a72-a0d3-4277-811a-2a0643855596",
   "metadata": {},
   "source": [
    "FN TO GET THE PAGE DATA OF EACH SEASON LINK"
   ]
  },
  {
   "cell_type": "code",
   "execution_count": 5,
   "id": "f29d62f1-7d0c-4219-92f6-670603df70ce",
   "metadata": {},
   "outputs": [],
   "source": [
    "def getPage(link):\n",
    "    driver=webdriver.Chrome(options=options)\n",
    "    driver.get(link)\n",
    "    driver.save_screenshot(\"page.png\")\n",
    "    #driver.implicitly_wait(5)\n",
    "    WebDriverWait(driver,10).until(EC.element_to_be_clickable((By.ID,\"onetrust-accept-btn-handler\"))).click()\n",
    "   # driver.find_element(By.ID,\"onetrust-accept-btn-handler\").click()\n",
    "    return driver"
   ]
  },
  {
   "cell_type": "markdown",
   "id": "f10a2345-f375-42fb-bf8d-3a612bfbed82",
   "metadata": {},
   "source": [
    "CREATING A SOUP OF THE WEBELEMENT PAGE SOURCE TO EXTRACT 1ST LEVEL DATA"
   ]
  },
  {
   "cell_type": "code",
   "execution_count": 7,
   "id": "ac8e7b90-0e73-4f75-9763-3579d5eca7d5",
   "metadata": {},
   "outputs": [],
   "source": [
    "def getSoupOfGames(driver):\n",
    "    soup=BeautifulSoup(driver.page_source,'html.parser')\n",
    "    live=soup.find('div',id=\"live-table\")\n",
    "    event=live.find('div',class_=\"leagues--static event--leagues results\")\n",
    "    sport=event.find('div',class_=\"sportName soccer\")\n",
    "    games=sport.find_all('div',{'class':\n",
    "                                [\n",
    "                                    'event__match event__match--static event__match--twoLine',\n",
    "                                    'event__match event__match--static event__match--last event__match--twoLine'\n",
    "                                ]})\n",
    "    return games"
   ]
  },
  {
   "cell_type": "markdown",
   "id": "f66ff5f0-02d1-4bd6-9886-8bdf8d22d5e1",
   "metadata": {},
   "source": [
    "LOOPING THROUGH EACH SEASON LINK FETCHING BASIC DATA STATS"
   ]
  },
  {
   "cell_type": "code",
   "execution_count": 8,
   "id": "c273c052-7d8a-490b-98e2-4287470296dc",
   "metadata": {},
   "outputs": [],
   "source": [
    "links=getSeasonLinks(baseUrl)"
   ]
  },
  {
   "cell_type": "code",
   "execution_count": 9,
   "id": "0814d19d-1fd1-4af5-87d0-aa3337d066a4",
   "metadata": {},
   "outputs": [
    {
     "data": {
      "text/plain": [
       "['https://www.flashfootball.com/england/premier-league-2022-2023/',\n",
       " 'https://www.flashfootball.com/england/premier-league-2021-2022/',\n",
       " 'https://www.flashfootball.com/england/premier-league-2020-2021/',\n",
       " 'https://www.flashfootball.com/england/premier-league-2019-2020/',\n",
       " 'https://www.flashfootball.com/england/premier-league-2018-2019/',\n",
       " 'https://www.flashfootball.com/england/premier-league-2017-2018/',\n",
       " 'https://www.flashfootball.com/england/premier-league-2016-2017/',\n",
       " 'https://www.flashfootball.com/england/premier-league-2015-2016/',\n",
       " 'https://www.flashfootball.com/england/premier-league-2014-2015/']"
      ]
     },
     "execution_count": 9,
     "metadata": {},
     "output_type": "execute_result"
    }
   ],
   "source": [
    "links"
   ]
  },
  {
   "cell_type": "code",
   "execution_count": 10,
   "id": "3cf76bd1-8f91-4856-9fd8-cdad9e5c064d",
   "metadata": {},
   "outputs": [],
   "source": [
    "homes=[];homegoals=[];aways=[];awaygoals=[];seasons=[]\n",
    "for link in links[:10]:\n",
    "    #GETTING OUR PAGES\n",
    "    driver=getPage(link)\n",
    "    #CLICKING ON \"SHOW MORE MATCHES\" TO DISPLAY ALL THE MATCHES IN THE PAGE B4 CREATING THE SOUP\n",
    "    x=0\n",
    "    while x<4:\n",
    "        try:\n",
    "            #driver.implicitly_wait(5)\n",
    "            element=WebDriverWait(driver,20).until(\n",
    "            EC.element_to_be_clickable((By.CLASS_NAME,\"event__more--static\"))\n",
    "            )\n",
    "            driver.execute_script(\"arguments[0].scrollIntoView();\", element)\n",
    "            element.click()\n",
    "            #driver.save_screenshot(\"more.png\")\n",
    "            x+=1 \n",
    "        except ElementClickInterceptedException:\n",
    "            driver.execute_script(\"arguments[0].click()\",element)\n",
    "            x=x+1\n",
    "        #CREATING SOUP OBJECT\n",
    "        games=getSoupOfGames(driver)\n",
    "        #GETTING CURRENT SEASON\n",
    "        obj=re.compile(r'\\d{4}\\-\\d{4}')\n",
    "        season=obj.findall(link)\n",
    "        #GETTIN INDIVIDUAL GAME STATS FOR EACH MATCH\n",
    "        for game in games:\n",
    "            home=game.find('div',{'class':[\"event__participant event__participant--home fontExtraBold\",\"event__participant event__participant--home\"]}).text\n",
    "            homes.append(home)\n",
    "            homegoal=game.find('div',class_='event__score event__score--home').text\n",
    "            homegoals.append(homegoal)\n",
    "            away=game.find('div',{'class':[\"event__participant event__participant--away fontExtraBold\",\"event__participant event__participant--away\"]}).text\n",
    "            awaygoal=game.find('div',class_='event__score event__score--away').text\n",
    "            aways.append(away)\n",
    "            awaygoals.append(awaygoal)\n",
    "            seasons.append(season)\n",
    "            "
   ]
  },
  {
   "cell_type": "markdown",
   "id": "329bf5cd-e135-41dc-a0ed-52f11caa3e5b",
   "metadata": {},
   "source": [
    "CREATING A DATAFRAME"
   ]
  },
  {
   "cell_type": "code",
   "execution_count": 11,
   "id": "7e2fc430-f450-4714-9be2-c1bba487cd57",
   "metadata": {},
   "outputs": [],
   "source": [
    "dic={\n",
    "    'season':seasons,\n",
    "    'home':homes,\n",
    "    'homegoals':homegoals,\n",
    "    'away':aways,\n",
    "    'awaygoals':awaygoals\n",
    "}\n",
    "stats=pd.DataFrame(dic)"
   ]
  },
  {
   "cell_type": "code",
   "execution_count": 14,
   "id": "9925a40f-2c65-45db-9abb-ae1777ae6fc5",
   "metadata": {},
   "outputs": [
    {
     "data": {
      "text/html": [
       "<div>\n",
       "<style scoped>\n",
       "    .dataframe tbody tr th:only-of-type {\n",
       "        vertical-align: middle;\n",
       "    }\n",
       "\n",
       "    .dataframe tbody tr th {\n",
       "        vertical-align: top;\n",
       "    }\n",
       "\n",
       "    .dataframe thead th {\n",
       "        text-align: right;\n",
       "    }\n",
       "</style>\n",
       "<table border=\"1\" class=\"dataframe\">\n",
       "  <thead>\n",
       "    <tr style=\"text-align: right;\">\n",
       "      <th></th>\n",
       "      <th>season</th>\n",
       "      <th>home</th>\n",
       "      <th>homegoals</th>\n",
       "      <th>away</th>\n",
       "      <th>awaygoals</th>\n",
       "    </tr>\n",
       "  </thead>\n",
       "  <tbody>\n",
       "    <tr>\n",
       "      <th>0</th>\n",
       "      <td>[2022-2023]</td>\n",
       "      <td>Arsenal</td>\n",
       "      <td>5</td>\n",
       "      <td>Wolves</td>\n",
       "      <td>0</td>\n",
       "    </tr>\n",
       "    <tr>\n",
       "      <th>1</th>\n",
       "      <td>[2022-2023]</td>\n",
       "      <td>Aston Villa</td>\n",
       "      <td>2</td>\n",
       "      <td>Brighton</td>\n",
       "      <td>1</td>\n",
       "    </tr>\n",
       "    <tr>\n",
       "      <th>2</th>\n",
       "      <td>[2022-2023]</td>\n",
       "      <td>Brentford</td>\n",
       "      <td>1</td>\n",
       "      <td>Manchester City</td>\n",
       "      <td>0</td>\n",
       "    </tr>\n",
       "    <tr>\n",
       "      <th>3</th>\n",
       "      <td>[2022-2023]</td>\n",
       "      <td>Chelsea</td>\n",
       "      <td>1</td>\n",
       "      <td>Newcastle</td>\n",
       "      <td>1</td>\n",
       "    </tr>\n",
       "    <tr>\n",
       "      <th>4</th>\n",
       "      <td>[2022-2023]</td>\n",
       "      <td>Crystal Palace</td>\n",
       "      <td>1</td>\n",
       "      <td>Nottingham</td>\n",
       "      <td>1</td>\n",
       "    </tr>\n",
       "    <tr>\n",
       "      <th>...</th>\n",
       "      <td>...</td>\n",
       "      <td>...</td>\n",
       "      <td>...</td>\n",
       "      <td>...</td>\n",
       "      <td>...</td>\n",
       "    </tr>\n",
       "    <tr>\n",
       "      <th>6420</th>\n",
       "      <td>[2014-2015]</td>\n",
       "      <td>Liverpool</td>\n",
       "      <td>0</td>\n",
       "      <td>Hull</td>\n",
       "      <td>0</td>\n",
       "    </tr>\n",
       "    <tr>\n",
       "      <th>6421</th>\n",
       "      <td>[2014-2015]</td>\n",
       "      <td>Southampton</td>\n",
       "      <td>1</td>\n",
       "      <td>Stoke</td>\n",
       "      <td>0</td>\n",
       "    </tr>\n",
       "    <tr>\n",
       "      <th>6422</th>\n",
       "      <td>[2014-2015]</td>\n",
       "      <td>Sunderland</td>\n",
       "      <td>0</td>\n",
       "      <td>Arsenal</td>\n",
       "      <td>2</td>\n",
       "    </tr>\n",
       "    <tr>\n",
       "      <th>6423</th>\n",
       "      <td>[2014-2015]</td>\n",
       "      <td>West Brom</td>\n",
       "      <td>2</td>\n",
       "      <td>Crystal Palace</td>\n",
       "      <td>2</td>\n",
       "    </tr>\n",
       "    <tr>\n",
       "      <th>6424</th>\n",
       "      <td>[2014-2015]</td>\n",
       "      <td>West Ham</td>\n",
       "      <td>2</td>\n",
       "      <td>Manchester City</td>\n",
       "      <td>1</td>\n",
       "    </tr>\n",
       "  </tbody>\n",
       "</table>\n",
       "<p>6425 rows × 5 columns</p>\n",
       "</div>"
      ],
      "text/plain": [
       "           season            home homegoals             away awaygoals\n",
       "0     [2022-2023]         Arsenal         5           Wolves         0\n",
       "1     [2022-2023]     Aston Villa         2         Brighton         1\n",
       "2     [2022-2023]       Brentford         1  Manchester City         0\n",
       "3     [2022-2023]         Chelsea         1        Newcastle         1\n",
       "4     [2022-2023]  Crystal Palace         1       Nottingham         1\n",
       "...           ...             ...       ...              ...       ...\n",
       "6420  [2014-2015]       Liverpool         0             Hull         0\n",
       "6421  [2014-2015]     Southampton         1            Stoke         0\n",
       "6422  [2014-2015]      Sunderland         0          Arsenal         2\n",
       "6423  [2014-2015]       West Brom         2   Crystal Palace         2\n",
       "6424  [2014-2015]        West Ham         2  Manchester City         1\n",
       "\n",
       "[6425 rows x 5 columns]"
      ]
     },
     "execution_count": 14,
     "metadata": {},
     "output_type": "execute_result"
    }
   ],
   "source": [
    "stats"
   ]
  },
  {
   "cell_type": "markdown",
   "id": "80b0c266-4224-4286-9226-e6f2782623ba",
   "metadata": {},
   "source": [
    "STORING THE DATA TO A CSV FILE"
   ]
  },
  {
   "cell_type": "code",
   "execution_count": 17,
   "id": "a3269e23-0ac2-403d-bac2-8bdf0d43fbd7",
   "metadata": {},
   "outputs": [],
   "source": [
    "stats.to_csv('matches.csv')"
   ]
  },
  {
   "cell_type": "code",
   "execution_count": null,
   "id": "8adb96aa-f295-41fc-8b8d-89ebe7f388eb",
   "metadata": {},
   "outputs": [],
   "source": []
  }
 ],
 "metadata": {
  "kernelspec": {
   "display_name": "Python 3 (ipykernel)",
   "language": "python",
   "name": "python3"
  },
  "language_info": {
   "codemirror_mode": {
    "name": "ipython",
    "version": 3
   },
   "file_extension": ".py",
   "mimetype": "text/x-python",
   "name": "python",
   "nbconvert_exporter": "python",
   "pygments_lexer": "ipython3",
   "version": "3.10.12"
  }
 },
 "nbformat": 4,
 "nbformat_minor": 5
}
